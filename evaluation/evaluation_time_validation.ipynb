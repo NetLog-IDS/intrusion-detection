{
 "cells": [
  {
   "cell_type": "markdown",
   "id": "643304b6",
   "metadata": {},
   "source": [
    "# Evaluation Code for KSQL and ML\n",
    "Before evaluating, please run KSQL infrastructure with `test.pcap` generated from `../datasets/preparation2.py`, then run `../rule-detection/evaluation/consumer/script.py` to consume the results from Kafka, and lastly run `../rule-detection/evaluation/ksql_evaluation_dos.py` and `../rule-detection/evaluation/ksql_evaluation_ps.py` to find list of packets in the pcap (in the form of index) that is malicious/detected.\n",
    "\n",
    "**Metrics**\n",
    "- Accuracy, Precision, Recall, F1-Score\n",
    "- Inference Time for ML"
   ]
  },
  {
   "cell_type": "code",
   "execution_count": 1,
   "id": "c2e8efac",
   "metadata": {},
   "outputs": [],
   "source": [
    "import pandas as pd\n",
    "import numpy as np\n",
    "from sklearn.preprocessing import LabelEncoder\n",
    "import joblib\n",
    "import time"
   ]
  },
  {
   "cell_type": "code",
   "execution_count": 2,
   "id": "7fba6eaa",
   "metadata": {},
   "outputs": [],
   "source": [
    "DOS_MODEL_LOCATION = \"../ai-detection/notebooks/models/postfs\"\n",
    "PS_MODEL_LOCATION = \"../ai-detection/notebooks/modelsps/postfs\""
   ]
  },
  {
   "cell_type": "code",
   "execution_count": 3,
   "id": "5fc67492",
   "metadata": {},
   "outputs": [],
   "source": [
    "X_val = pd.read_csv(f\"../ai-detection/notebooks/models/X_val.csv\", index_col=0)\n",
    "y_val = pd.read_csv(f\"../ai-detection/notebooks/modelsps/y_val.csv\", index_col=0)['0']"
   ]
  },
  {
   "cell_type": "markdown",
   "id": "dcaa5b15",
   "metadata": {},
   "source": [
    "## Inference Time"
   ]
  },
  {
   "cell_type": "code",
   "execution_count": 38,
   "id": "1cb45896",
   "metadata": {},
   "outputs": [],
   "source": [
    "TRIES = 100"
   ]
  },
  {
   "cell_type": "code",
   "execution_count": null,
   "id": "9324cd18",
   "metadata": {},
   "outputs": [],
   "source": [
    "# this is in milliseconds, not seconds\n",
    "def calculate_inference_time_in_ms(foo, tries: int):\n",
    "    times = []\n",
    "    for _ in range(tries):\n",
    "        start = time.time()\n",
    "        foo()\n",
    "        end = time.time()\n",
    "        times.append(((end - start) / len(X_val)) * 1000)\n",
    "    return np.average(times)"
   ]
  },
  {
   "cell_type": "code",
   "execution_count": 9,
   "id": "ab39427f",
   "metadata": {},
   "outputs": [],
   "source": [
    "def print_time(name: str, in_ms):\n",
    "    print(f\"Average Inference time for {name}\")\n",
    "    print(in_ms, 'milliseconds')\n",
    "    print(in_ms / 1000, 'seconds')\n",
    "    print()"
   ]
  },
  {
   "cell_type": "markdown",
   "id": "8fda1bdb",
   "metadata": {},
   "source": [
    "## DoS"
   ]
  },
  {
   "cell_type": "code",
   "execution_count": 43,
   "id": "863b1d21",
   "metadata": {},
   "outputs": [],
   "source": [
    "dt = joblib.load(f\"{DOS_MODEL_LOCATION}/dt_tuned.pkl\")\n",
    "rf = joblib.load(f\"{DOS_MODEL_LOCATION}/rf_tuned.pkl\")\n",
    "et = joblib.load(f\"{DOS_MODEL_LOCATION}/et_tuned.pkl\")\n",
    "xg = joblib.load(f\"{DOS_MODEL_LOCATION}/xg_tuned.pkl\")\n",
    "lgbm = joblib.load(f\"{DOS_MODEL_LOCATION}/lgbm_tuned.pkl\")\n",
    "cat = joblib.load(f\"{DOS_MODEL_LOCATION}/cat_tuned.pkl\")\n",
    "stk1 = joblib.load(f\"{DOS_MODEL_LOCATION}/stk1_tuned.pkl\")\n",
    "stk2 = joblib.load(f\"{DOS_MODEL_LOCATION}/stk2_tuned.pkl\")\n",
    "stk3 = joblib.load(f\"{DOS_MODEL_LOCATION}/stk3_tuned.pkl\")\n",
    "\n",
    "fs = ['Fwd IAT Min', 'Bwd IAT Mean', 'Fwd Seg Size Min', 'Flow Packets/s', 'Fwd Packets/s', 'Total Length of Bwd Packet', 'Bwd Act Data Pkts', 'Bwd IAT Min', 'Flow IAT Mean', 'FIN Flag Count', 'Bwd Init Win Bytes', 'Fwd Bulk Rate Avg', 'Active Min', 'Fwd Packet Length Max', 'Fwd Packet Length Min', 'Bwd Packets/s', 'Bwd Header Length', 'Bwd Packet Length Mean', 'Subflow Bwd Bytes', 'Flow Duration', 'Flow IAT Min', 'Total Bwd packets', 'Fwd Segment Size Avg', 'FWD Init Win Bytes', 'Packet Length Mean', 'Down/Up Ratio', 'ACK Flag Count', 'Fwd IAT Total', 'SYN Flag Count', 'Bwd Packet Length Max', 'Subflow Fwd Packets', 'Fwd Bytes/Bulk Avg', 'Flow IAT Max', 'Fwd IAT Mean', 'Fwd IAT Std', 'Fwd Header Length']\n",
    "\n",
    "top_3_models = ['rf', 'xg', 'lgbm']\n",
    "\n",
    "X_test_fs = X_val[fs]"
   ]
  },
  {
   "cell_type": "code",
   "execution_count": 44,
   "id": "26cc696a",
   "metadata": {},
   "outputs": [],
   "source": [
    "dos_inference_times: list[tuple] = []\n",
    "\n",
    "# Decision Tree\n",
    "dos_inference_times.append((\"DT\", calculate_inference_time_in_ms(lambda: dt.predict(X_test_fs), TRIES)))\n",
    "\n",
    "# Random Forest\n",
    "dos_inference_times.append((\"RF\", calculate_inference_time_in_ms(lambda: rf.predict(X_test_fs), TRIES)))\n",
    "\n",
    "# Extra Trees\n",
    "dos_inference_times.append((\"ET\", calculate_inference_time_in_ms(lambda: et.predict(X_test_fs), TRIES)))\n",
    "\n",
    "# XGBoost\n",
    "dos_inference_times.append((\"XG\", calculate_inference_time_in_ms(lambda: xg.predict(X_test_fs), TRIES)))\n",
    "\n",
    "# LightGBM\n",
    "dos_inference_times.append((\"LGBM\", calculate_inference_time_in_ms(lambda: lgbm.predict(X_test_fs), TRIES)))\n",
    "\n",
    "# CatBoost\n",
    "dos_inference_times.append((\"Cat\", calculate_inference_time_in_ms(lambda: cat.predict(X_test_fs), TRIES)))\n",
    "\n",
    "# Ensemble 1 (Change based on training's top 3 models results)\n",
    "def stk1_timer():\n",
    "    rf_test = rf.predict(X_test_fs)\n",
    "    xg_test = xg.predict(X_test_fs)\n",
    "    lgbm_test = lgbm.predict(X_test_fs)\n",
    "\n",
    "    rf_test = rf_test.reshape(-1, 1)\n",
    "    xg_test = xg_test.reshape(-1, 1)\n",
    "    lgbm_test = lgbm_test.reshape(-1, 1)\n",
    "\n",
    "    x_test = np.concatenate([rf_test, xg_test, lgbm_test], axis=1)\n",
    "\n",
    "    stk1.predict(x_test)\n",
    "\n",
    "dos_inference_times.append((\"STK Traditional\", calculate_inference_time_in_ms(stk1_timer, TRIES)))\n",
    "\n",
    "# Ensemble 2 (Change based on training's top 3 models results)\n",
    "def stk2_timer():\n",
    "    rf_prob_test = rf.predict_proba(X_test_fs)\n",
    "    xg_prob_test = xg.predict_proba(X_test_fs)\n",
    "    lgbm_prob_test = lgbm.predict_proba(X_test_fs)\n",
    "\n",
    "    x_test = np.concatenate([rf_prob_test, xg_prob_test, lgbm_prob_test], axis=1)\n",
    "\n",
    "    stk2.predict(x_test)\n",
    "\n",
    "dos_inference_times.append((\"STK Confidence\", calculate_inference_time_in_ms(stk2_timer, TRIES)))\n",
    "\n",
    "# Ensemble 3 (Change based on training's top 3 models results)\n",
    "def stk3_timer():\n",
    "    rf_test = rf.predict(X_test_fs)\n",
    "    xg_test = xg.predict(X_test_fs)\n",
    "    lgbm_test = lgbm.predict(X_test_fs)\n",
    "\n",
    "    rf_prob_test = rf.predict_proba(X_test_fs)\n",
    "    xg_prob_test = xg.predict_proba(X_test_fs)\n",
    "    lgbm_prob_test = lgbm.predict_proba(X_test_fs)\n",
    "\n",
    "    rf_test = rf_test.reshape(-1, 1)\n",
    "    xg_test = xg_test.reshape(-1, 1)\n",
    "    lgbm_test = lgbm_test.reshape(-1, 1)\n",
    "\n",
    "    x_test = np.concatenate([rf_test, xg_test, lgbm_test] + [rf_prob_test, xg_prob_test, lgbm_prob_test], axis=1)\n",
    "\n",
    "    stk3.predict(x_test)\n",
    "\n",
    "dos_inference_times.append((\"STK Hybrid\", calculate_inference_time_in_ms(stk3_timer, TRIES)))"
   ]
  },
  {
   "cell_type": "code",
   "execution_count": 45,
   "id": "2a663b68",
   "metadata": {},
   "outputs": [
    {
     "data": {
      "text/plain": [
       "[('DT', 0.00010634339957432386),\n",
       " ('XG', 0.00011878373927395645),\n",
       " ('Cat', 0.00013363732454691875),\n",
       " ('LGBM', 0.00047556850306581535),\n",
       " ('ET', 0.0011712116401777232),\n",
       " ('RF', 0.002062725721245142),\n",
       " ('STK Confidence', 0.00280482610908058),\n",
       " ('STK Traditional', 0.002927671784206637),\n",
       " ('STK Hybrid', 0.005490533262931026)]"
      ]
     },
     "execution_count": 45,
     "metadata": {},
     "output_type": "execute_result"
    }
   ],
   "source": [
    "dos_times = sorted(dos_inference_times, key=lambda x: x[1])\n",
    "dos_times"
   ]
  },
  {
   "cell_type": "code",
   "execution_count": 46,
   "id": "60ecf025",
   "metadata": {},
   "outputs": [
    {
     "data": {
      "text/plain": [
       "[['DT', '0.00011'],\n",
       " ['XG', '0.00012'],\n",
       " ['Cat', '0.00013'],\n",
       " ['LGBM', '0.00048'],\n",
       " ['ET', '0.00117'],\n",
       " ['RF', '0.00206'],\n",
       " ['STK Confidence', '0.00280'],\n",
       " ['STK Traditional', '0.00293'],\n",
       " ['STK Hybrid', '0.00549']]"
      ]
     },
     "execution_count": 46,
     "metadata": {},
     "output_type": "execute_result"
    }
   ],
   "source": [
    "[[a, format(b, '.5f')] for a, b in dos_times]"
   ]
  },
  {
   "cell_type": "markdown",
   "id": "11b10f2d",
   "metadata": {},
   "source": [
    "## Port Scan"
   ]
  },
  {
   "cell_type": "code",
   "execution_count": 47,
   "id": "ca6e7498",
   "metadata": {},
   "outputs": [],
   "source": [
    "dt = joblib.load(f\"{PS_MODEL_LOCATION}/dt_tuned.pkl\")\n",
    "rf = joblib.load(f\"{PS_MODEL_LOCATION}/rf_tuned.pkl\")\n",
    "et = joblib.load(f\"{PS_MODEL_LOCATION}/et_tuned.pkl\")\n",
    "xg = joblib.load(f\"{PS_MODEL_LOCATION}/xg_tuned.pkl\")\n",
    "lgbm = joblib.load(f\"{PS_MODEL_LOCATION}/lgbm_tuned.pkl\")\n",
    "cat = joblib.load(f\"{PS_MODEL_LOCATION}/cat_tuned.pkl\")\n",
    "stk1 = joblib.load(f\"{PS_MODEL_LOCATION}/stk1_tuned.pkl\")\n",
    "stk2 = joblib.load(f\"{PS_MODEL_LOCATION}/stk2_tuned.pkl\")\n",
    "stk3 = joblib.load(f\"{PS_MODEL_LOCATION}/stk3_tuned.pkl\")\n",
    "\n",
    "fs = ['Bwd RST Flags', 'FWD Init Win Bytes', 'RST Flag Count', 'Flow Duration', 'Packet Length Max', 'Flow Packets/s', 'Protocol', 'Total Length of Fwd Packet', 'Flow IAT Max', 'Fwd Seg Size Min', 'Average Packet Size', 'Packet Length Mean', 'Fwd Packet Length Max', 'Bwd IAT Mean', 'Total Fwd Packet', 'Flow Bytes/s', 'Fwd Act Data Pkts', 'Bwd Packets/s', 'Bwd Packet Length Std', 'Fwd IAT Total', 'Flow IAT Mean', 'Flow IAT Min', 'Fwd Segment Size Avg', 'Fwd Header Length', 'Bwd Packet Length Mean', 'Packet Length Std', 'Fwd IAT Min', 'Packet Length Variance', 'Bwd IAT Max']\n",
    "\n",
    "top_3_models = ['et', 'rf', 'lgbm']\n",
    "\n",
    "X_test_fs = X_val[fs]"
   ]
  },
  {
   "cell_type": "code",
   "execution_count": 48,
   "id": "462a4579",
   "metadata": {},
   "outputs": [],
   "source": [
    "ps_inference_times: list[tuple] = []\n",
    "\n",
    "# Decision Tree\n",
    "ps_inference_times.append((\"DT\", calculate_inference_time_in_ms(lambda: dt.predict(X_test_fs), TRIES)))\n",
    "\n",
    "# Random Forest\n",
    "ps_inference_times.append((\"RF\", calculate_inference_time_in_ms(lambda: rf.predict(X_test_fs), TRIES)))\n",
    "\n",
    "# Extra Trees\n",
    "ps_inference_times.append((\"ET\", calculate_inference_time_in_ms(lambda: et.predict(X_test_fs), TRIES)))\n",
    "\n",
    "# XGBoost\n",
    "ps_inference_times.append((\"XG\", calculate_inference_time_in_ms(lambda: xg.predict(X_test_fs), TRIES)))\n",
    "\n",
    "# LightGBM\n",
    "ps_inference_times.append((\"LGBM\", calculate_inference_time_in_ms(lambda: lgbm.predict(X_test_fs), TRIES)))\n",
    "\n",
    "# CatBoost\n",
    "ps_inference_times.append((\"Cat\", calculate_inference_time_in_ms(lambda: cat.predict(X_test_fs), TRIES)))\n",
    "\n",
    "# Ensemble 1 (Change based on training's top 3 models results)\n",
    "def stk1_timer():\n",
    "    et_test = et.predict(X_test_fs)\n",
    "    rf_test = rf.predict(X_test_fs)\n",
    "    lgbm_test = lgbm.predict(X_test_fs)\n",
    "\n",
    "    et_test = et_test.reshape(-1, 1)\n",
    "    rf_test = rf_test.reshape(-1, 1)\n",
    "    lgbm_test = lgbm_test.reshape(-1, 1)\n",
    "\n",
    "    x_test = np.concatenate([et_test, rf_test, lgbm_test], axis=1)\n",
    "\n",
    "    stk1.predict(x_test)\n",
    "\n",
    "ps_inference_times.append((\"STK Traditional\", calculate_inference_time_in_ms(stk1_timer, TRIES)))\n",
    "\n",
    "# Ensemble 2 (Change based on training's top 3 models results)\n",
    "def stk2_timer():\n",
    "    et_prob_test = et.predict_proba(X_test_fs)\n",
    "    rf_prob_test = rf.predict_proba(X_test_fs)\n",
    "    lgbm_prob_test = lgbm.predict_proba(X_test_fs)\n",
    "\n",
    "    x_test = np.concatenate([et_prob_test, rf_prob_test, lgbm_prob_test], axis=1)\n",
    "\n",
    "    stk2.predict(x_test)\n",
    "\n",
    "ps_inference_times.append((\"STK Confidence\", calculate_inference_time_in_ms(stk2_timer, TRIES)))\n",
    "\n",
    "# Ensemble 3 (Change based on training's top 3 models results)\n",
    "def stk3_timer():\n",
    "    et_test = et.predict(X_test_fs)\n",
    "    rf_test = rf.predict(X_test_fs)\n",
    "    lgbm_test = lgbm.predict(X_test_fs)\n",
    "\n",
    "    et_prob_test = et.predict_proba(X_test_fs)\n",
    "    rf_prob_test = rf.predict_proba(X_test_fs)\n",
    "    lgbm_prob_test = lgbm.predict_proba(X_test_fs)\n",
    "\n",
    "    et_test = et_test.reshape(-1, 1)\n",
    "    rf_test = rf_test.reshape(-1, 1)\n",
    "    lgbm_test = lgbm_test.reshape(-1, 1)\n",
    "\n",
    "    x_test = np.concatenate([et_test, rf_test, lgbm_test] + [et_prob_test, rf_prob_test, lgbm_prob_test], axis=1)\n",
    "\n",
    "    stk3.predict(x_test)\n",
    "\n",
    "ps_inference_times.append((\"STK Hybrid\", calculate_inference_time_in_ms(stk3_timer, TRIES)))"
   ]
  },
  {
   "cell_type": "code",
   "execution_count": 49,
   "id": "88674594",
   "metadata": {},
   "outputs": [
    {
     "data": {
      "text/plain": [
       "[('DT', 6.200067718335812e-05),\n",
       " ('XG', 6.931041101604196e-05),\n",
       " ('Cat', 0.00010874639148311167),\n",
       " ('LGBM', 0.00030189499523552743),\n",
       " ('RF', 0.001089385293817583),\n",
       " ('ET', 0.00408097313355778),\n",
       " ('STK Traditional', 0.005626291905190202),\n",
       " ('STK Confidence', 0.005728392452822213),\n",
       " ('STK Hybrid', 0.011192935011438698)]"
      ]
     },
     "execution_count": 49,
     "metadata": {},
     "output_type": "execute_result"
    }
   ],
   "source": [
    "ps_times = sorted(ps_inference_times, key=lambda x: x[1])\n",
    "ps_times"
   ]
  },
  {
   "cell_type": "code",
   "execution_count": 50,
   "id": "f2c574a7",
   "metadata": {},
   "outputs": [
    {
     "data": {
      "text/plain": [
       "[['DT', '0.00006'],\n",
       " ['XG', '0.00007'],\n",
       " ['Cat', '0.00011'],\n",
       " ['LGBM', '0.00030'],\n",
       " ['RF', '0.00109'],\n",
       " ['ET', '0.00408'],\n",
       " ['STK Traditional', '0.00563'],\n",
       " ['STK Confidence', '0.00573'],\n",
       " ['STK Hybrid', '0.01119']]"
      ]
     },
     "execution_count": 50,
     "metadata": {},
     "output_type": "execute_result"
    }
   ],
   "source": [
    "[[a, format(b, '.5f')] for a, b in ps_times]"
   ]
  }
 ],
 "metadata": {
  "kernelspec": {
   "display_name": "venv",
   "language": "python",
   "name": "python3"
  },
  "language_info": {
   "codemirror_mode": {
    "name": "ipython",
    "version": 3
   },
   "file_extension": ".py",
   "mimetype": "text/x-python",
   "name": "python",
   "nbconvert_exporter": "python",
   "pygments_lexer": "ipython3",
   "version": "3.10.12"
  }
 },
 "nbformat": 4,
 "nbformat_minor": 5
}
