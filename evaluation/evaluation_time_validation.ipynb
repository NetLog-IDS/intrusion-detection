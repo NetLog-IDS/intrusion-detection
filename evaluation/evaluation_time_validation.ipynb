{
 "cells": [
  {
   "cell_type": "markdown",
   "id": "643304b6",
   "metadata": {},
   "source": [
    "# Evaluation Code for KSQL and ML\n",
    "Before evaluating, please run KSQL infrastructure with `test.pcap` generated from `../datasets/preparation2.py`, then run `../rule-detection/evaluation/consumer/script.py` to consume the results from Kafka, and lastly run `../rule-detection/evaluation/ksql_evaluation_dos.py` and `../rule-detection/evaluation/ksql_evaluation_ps.py` to find list of packets in the pcap (in the form of index) that is malicious/detected.\n",
    "\n",
    "**Metrics**\n",
    "- Accuracy, Precision, Recall, F1-Score\n",
    "- Inference Time for ML"
   ]
  },
  {
   "cell_type": "code",
   "execution_count": 1,
   "id": "c2e8efac",
   "metadata": {},
   "outputs": [],
   "source": [
    "import pandas as pd\n",
    "import numpy as np\n",
    "import joblib\n",
    "import time"
   ]
  },
  {
   "cell_type": "code",
   "execution_count": 2,
   "id": "7fba6eaa",
   "metadata": {},
   "outputs": [],
   "source": [
    "DOS_MODEL_LOCATION = \"../ai-detection/notebooks/modelsdoscrossval/postfs\"\n",
    "PS_MODEL_LOCATION = \"../ai-detection/notebooks/models/postfs\""
   ]
  },
  {
   "cell_type": "code",
   "execution_count": 4,
   "id": "ff06f141",
   "metadata": {},
   "outputs": [],
   "source": [
    "df = pd.read_csv('../datasets/output/train_final.csv', parse_dates=['Timestamp'])"
   ]
  },
  {
   "cell_type": "markdown",
   "id": "dcaa5b15",
   "metadata": {},
   "source": [
    "## Inference Time"
   ]
  },
  {
   "cell_type": "code",
   "execution_count": 5,
   "id": "1cb45896",
   "metadata": {},
   "outputs": [],
   "source": [
    "TRIES = 100"
   ]
  },
  {
   "cell_type": "code",
   "execution_count": 8,
   "id": "9324cd18",
   "metadata": {},
   "outputs": [],
   "source": [
    "# this is in milliseconds, not seconds\n",
    "def calculate_inference_time_in_ms(foo, tries: int):\n",
    "    times = []\n",
    "    for _ in range(tries):\n",
    "        start = time.time()\n",
    "        foo()\n",
    "        end = time.time()\n",
    "        times.append(((end - start) / len(df)) * 1000)\n",
    "    return np.average(times)"
   ]
  },
  {
   "cell_type": "code",
   "execution_count": 9,
   "id": "ab39427f",
   "metadata": {},
   "outputs": [],
   "source": [
    "def print_time(name: str, in_ms):\n",
    "    print(f\"Average Inference time for {name}\")\n",
    "    print(in_ms, 'milliseconds')\n",
    "    print(in_ms / 1000, 'seconds')\n",
    "    print()"
   ]
  },
  {
   "cell_type": "markdown",
   "id": "8fda1bdb",
   "metadata": {},
   "source": [
    "## DoS"
   ]
  },
  {
   "cell_type": "code",
   "execution_count": 11,
   "id": "863b1d21",
   "metadata": {},
   "outputs": [],
   "source": [
    "dt = joblib.load(f\"{DOS_MODEL_LOCATION}/dt_tuned.pkl\")\n",
    "rf = joblib.load(f\"{DOS_MODEL_LOCATION}/rf_tuned.pkl\")\n",
    "et = joblib.load(f\"{DOS_MODEL_LOCATION}/et_tuned.pkl\")\n",
    "xg = joblib.load(f\"{DOS_MODEL_LOCATION}/xg_tuned.pkl\")\n",
    "lgbm = joblib.load(f\"{DOS_MODEL_LOCATION}/lgbm_tuned.pkl\")\n",
    "cat = joblib.load(f\"{DOS_MODEL_LOCATION}/cat_tuned.pkl\")\n",
    "stk1 = joblib.load(f\"{DOS_MODEL_LOCATION}/stk1_tuned.pkl\")\n",
    "stk2 = joblib.load(f\"{DOS_MODEL_LOCATION}/stk2_tuned.pkl\")\n",
    "stk3 = joblib.load(f\"{DOS_MODEL_LOCATION}/stk3_tuned.pkl\")\n",
    "\n",
    "fs = ['Fwd Seg Size Min', 'Bwd Packet Length Mean', 'FWD Init Win Bytes', 'Fwd IAT Max', 'Bwd RST Flags', 'Bwd Packet Length Max', 'FIN Flag Count', 'Fwd IAT Min', 'Protocol', 'Bwd Segment Size Avg', 'Flow IAT Mean', 'Fwd Packet Length Max', 'Down/Up Ratio', 'Flow IAT Min', 'RST Flag Count', 'Flow Duration', 'Subflow Fwd Packets', 'Flow IAT Max', 'Flow Packets/s', 'Active Min', 'Bwd IAT Min', 'Bwd Act Data Pkts', 'Bwd Init Win Bytes', 'Bwd IAT Max', 'SYN Flag Count', 'Idle Max', 'Fwd IAT Total', 'Total Length of Bwd Packet', 'Fwd IAT Mean', 'Fwd Packets/s', 'Average Packet Size', 'Bwd IAT Mean', 'Total Bwd packets', 'Bwd Packets/s', 'Bwd IAT Total', 'Packet Length Mean', 'Packet Length Max', 'Bwd PSH Flags', 'Flow IAT Std', 'Packet Length Std', 'Fwd Bulk Rate Avg', 'Fwd Segment Size Avg', 'Fwd Packet Length Min', 'Fwd IAT Std', 'Fwd Packet Length Std', 'Flow Bytes/s', 'Fwd Bytes/Bulk Avg', 'ACK Flag Count', 'Packet Length Variance']\n",
    "\n",
    "top_3_models = ['xg', 'et', 'lgbm']\n",
    "\n",
    "X_test_fs = df[fs]"
   ]
  },
  {
   "cell_type": "code",
   "execution_count": 12,
   "id": "26cc696a",
   "metadata": {},
   "outputs": [],
   "source": [
    "dos_inference_times: list[tuple] = []\n",
    "\n",
    "# Decision Tree\n",
    "dos_inference_times.append((\"DT\", calculate_inference_time_in_ms(lambda: dt.predict(X_test_fs), TRIES)))\n",
    "\n",
    "# Random Forest\n",
    "dos_inference_times.append((\"RF\", calculate_inference_time_in_ms(lambda: rf.predict(X_test_fs), TRIES)))\n",
    "\n",
    "# Extra Trees\n",
    "dos_inference_times.append((\"ET\", calculate_inference_time_in_ms(lambda: et.predict(X_test_fs), TRIES)))\n",
    "\n",
    "# XGBoost\n",
    "dos_inference_times.append((\"XG\", calculate_inference_time_in_ms(lambda: xg.predict(X_test_fs), TRIES)))\n",
    "\n",
    "# LightGBM\n",
    "dos_inference_times.append((\"LGBM\", calculate_inference_time_in_ms(lambda: lgbm.predict(X_test_fs), TRIES)))\n",
    "\n",
    "# CatBoost\n",
    "dos_inference_times.append((\"Cat\", calculate_inference_time_in_ms(lambda: cat.predict(X_test_fs), TRIES)))\n",
    "\n",
    "# OCSE (Change based on training's top 3 models results)\n",
    "def ocse_timer():\n",
    "    model_1_test = xg.predict(X_test_fs).reshape(-1, 1)\n",
    "    model_2_test = et.predict(X_test_fs).reshape(-1, 1)\n",
    "    model_3_test = lgbm.predict(X_test_fs).reshape(-1, 1)\n",
    "\n",
    "    model_1_prob_test = xg.predict_proba(X_test_fs)\n",
    "    model_2_prob_test = et.predict_proba(X_test_fs)\n",
    "    model_3_prob_test = lgbm.predict_proba(X_test_fs)\n",
    "\n",
    "    x_test = np.concatenate([model_1_test, model_2_test, model_3_test] + [model_1_prob_test, model_2_prob_test, model_3_prob_test], axis=1)\n",
    "\n",
    "    stk3.predict(x_test)\n",
    "\n",
    "dos_inference_times.append((\"OCSE\", calculate_inference_time_in_ms(ocse_timer, TRIES)))"
   ]
  },
  {
   "cell_type": "code",
   "execution_count": 13,
   "id": "2a663b68",
   "metadata": {},
   "outputs": [
    {
     "data": {
      "text/plain": [
       "[('XG', 8.44578148144689e-05),\n",
       " ('DT', 0.0001490853285177208),\n",
       " ('Cat', 0.00016464099596621282),\n",
       " ('LGBM', 0.0005456495241421308),\n",
       " ('RF', 0.001790227723203146),\n",
       " ('ET', 0.0019901761265639756),\n",
       " ('OCSE', 0.005219332419182201)]"
      ]
     },
     "execution_count": 13,
     "metadata": {},
     "output_type": "execute_result"
    }
   ],
   "source": [
    "dos_times = sorted(dos_inference_times, key=lambda x: x[1])\n",
    "dos_times"
   ]
  },
  {
   "cell_type": "code",
   "execution_count": 14,
   "id": "60ecf025",
   "metadata": {},
   "outputs": [
    {
     "data": {
      "text/plain": [
       "[['XG', '0.00008'],\n",
       " ['DT', '0.00015'],\n",
       " ['Cat', '0.00016'],\n",
       " ['LGBM', '0.00055'],\n",
       " ['RF', '0.00179'],\n",
       " ['ET', '0.00199'],\n",
       " ['OCSE', '0.00522']]"
      ]
     },
     "execution_count": 14,
     "metadata": {},
     "output_type": "execute_result"
    }
   ],
   "source": [
    "[[a, format(b, '.5f')] for a, b in dos_times]"
   ]
  },
  {
   "cell_type": "markdown",
   "id": "11b10f2d",
   "metadata": {},
   "source": [
    "## Port Scan"
   ]
  },
  {
   "cell_type": "code",
   "execution_count": 15,
   "id": "ca6e7498",
   "metadata": {},
   "outputs": [],
   "source": [
    "dt = joblib.load(f\"{PS_MODEL_LOCATION}/dt_tuned.pkl\")\n",
    "rf = joblib.load(f\"{PS_MODEL_LOCATION}/rf_tuned.pkl\")\n",
    "et = joblib.load(f\"{PS_MODEL_LOCATION}/et_tuned.pkl\")\n",
    "xg = joblib.load(f\"{PS_MODEL_LOCATION}/xg_tuned.pkl\")\n",
    "lgbm = joblib.load(f\"{PS_MODEL_LOCATION}/lgbm_tuned.pkl\")\n",
    "cat = joblib.load(f\"{PS_MODEL_LOCATION}/cat_tuned.pkl\")\n",
    "stk1 = joblib.load(f\"{PS_MODEL_LOCATION}/stk1_tuned.pkl\")\n",
    "stk2 = joblib.load(f\"{PS_MODEL_LOCATION}/stk2_tuned.pkl\")\n",
    "stk3 = joblib.load(f\"{PS_MODEL_LOCATION}/stk3_tuned.pkl\")\n",
    "\n",
    "fs = ['Flow Duration', 'Bwd RST Flags', 'RST Flag Count', 'Packet Length Mean', 'Protocol', 'Fwd Seg Size Min', 'Average Packet Size', 'Flow IAT Max', 'Fwd Packet Length Max', 'Packet Length Max', 'Bwd Packet Length Max', 'Fwd Segment Size Avg', 'Bwd Segment Size Avg', 'Fwd Act Data Pkts', 'Total Length of Fwd Packet', 'Bwd Packet Length Mean', 'FWD Init Win Bytes', 'Total Length of Bwd Packet', 'Bwd Act Data Pkts', 'Packet Length Std']\n",
    "\n",
    "top_3_models = ['et', 'lgbm', 'rf']\n",
    "\n",
    "X_test_fs = df[fs]"
   ]
  },
  {
   "cell_type": "code",
   "execution_count": 16,
   "id": "462a4579",
   "metadata": {},
   "outputs": [],
   "source": [
    "ps_inference_times: list[tuple] = []\n",
    "\n",
    "# Decision Tree\n",
    "ps_inference_times.append((\"DT\", calculate_inference_time_in_ms(lambda: dt.predict(X_test_fs), TRIES)))\n",
    "\n",
    "# Random Forest\n",
    "ps_inference_times.append((\"RF\", calculate_inference_time_in_ms(lambda: rf.predict(X_test_fs), TRIES)))\n",
    "\n",
    "# Extra Trees\n",
    "ps_inference_times.append((\"ET\", calculate_inference_time_in_ms(lambda: et.predict(X_test_fs), TRIES)))\n",
    "\n",
    "# XGBoost\n",
    "ps_inference_times.append((\"XG\", calculate_inference_time_in_ms(lambda: xg.predict(X_test_fs), TRIES)))\n",
    "\n",
    "# LightGBM\n",
    "ps_inference_times.append((\"LGBM\", calculate_inference_time_in_ms(lambda: lgbm.predict(X_test_fs), TRIES)))\n",
    "\n",
    "# CatBoost\n",
    "ps_inference_times.append((\"Cat\", calculate_inference_time_in_ms(lambda: cat.predict(X_test_fs), TRIES)))\n",
    "\n",
    "# OCSE (Change based on training's top 3 models results)\n",
    "def ocse_timer():\n",
    "    model_1_test = et.predict(X_test_fs).reshape(-1, 1)\n",
    "    model_2_test = lgbm.predict(X_test_fs).reshape(-1, 1)\n",
    "    model_3_test = rf.predict(X_test_fs).reshape(-1, 1)\n",
    "\n",
    "    model_1_prob_test = et.predict_proba(X_test_fs)\n",
    "    model_2_prob_test = lgbm.predict_proba(X_test_fs)\n",
    "    model_3_prob_test = rf.predict_proba(X_test_fs)\n",
    "\n",
    "    x_test = np.concatenate([model_1_test, model_2_test, model_3_test] + [model_1_prob_test, model_2_prob_test, model_3_prob_test], axis=1)\n",
    "\n",
    "    stk3.predict(x_test)\n",
    "\n",
    "ps_inference_times.append((\"OCSE\", calculate_inference_time_in_ms(ocse_timer, TRIES)))"
   ]
  },
  {
   "cell_type": "code",
   "execution_count": 17,
   "id": "88674594",
   "metadata": {},
   "outputs": [
    {
     "data": {
      "text/plain": [
       "[('DT', 4.824936858142845e-05),\n",
       " ('XG', 6.137050984963807e-05),\n",
       " ('Cat', 0.00023446180517324697),\n",
       " ('LGBM', 0.0003129888957770155),\n",
       " ('RF', 0.0012181823822037224),\n",
       " ('ET', 0.001346262603341478),\n",
       " ('OCSE', 0.00555523008552967)]"
      ]
     },
     "execution_count": 17,
     "metadata": {},
     "output_type": "execute_result"
    }
   ],
   "source": [
    "ps_times = sorted(ps_inference_times, key=lambda x: x[1])\n",
    "ps_times"
   ]
  },
  {
   "cell_type": "code",
   "execution_count": 18,
   "id": "f2c574a7",
   "metadata": {},
   "outputs": [
    {
     "data": {
      "text/plain": [
       "[['DT', '0.00005'],\n",
       " ['XG', '0.00006'],\n",
       " ['Cat', '0.00023'],\n",
       " ['LGBM', '0.00031'],\n",
       " ['RF', '0.00122'],\n",
       " ['ET', '0.00135'],\n",
       " ['OCSE', '0.00556']]"
      ]
     },
     "execution_count": 18,
     "metadata": {},
     "output_type": "execute_result"
    }
   ],
   "source": [
    "[[a, format(b, '.5f')] for a, b in ps_times]"
   ]
  }
 ],
 "metadata": {
  "kernelspec": {
   "display_name": "venv",
   "language": "python",
   "name": "python3"
  },
  "language_info": {
   "codemirror_mode": {
    "name": "ipython",
    "version": 3
   },
   "file_extension": ".py",
   "mimetype": "text/x-python",
   "name": "python",
   "nbconvert_exporter": "python",
   "pygments_lexer": "ipython3",
   "version": "3.10.12"
  }
 },
 "nbformat": 4,
 "nbformat_minor": 5
}
