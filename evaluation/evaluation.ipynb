{
 "cells": [
  {
   "cell_type": "markdown",
   "id": "643304b6",
   "metadata": {},
   "source": [
    "# Evaluation Code for KSQL and ML\n",
    "Before evaluating, please run KSQL infrastructure with `test.pcap` generated from `../datasets/preparation2.py`, then run `../rule-detection/evaluation/consumer/script.py` to consume the results from Kafka, and lastly run `../rule-detection/evaluation/ksql_evaluation_dos.py` and `../rule-detection/evaluation/ksql_evaluation_ps.py` to find list of packets in the pcap (in the form of index) that is malicious/detected.\n",
    "\n",
    "**Metrics**\n",
    "- Accuracy, Precision, Recall, F1-Score\n",
    "- Inference Time for ML"
   ]
  },
  {
   "cell_type": "code",
   "execution_count": 6,
   "id": "c2e8efac",
   "metadata": {},
   "outputs": [],
   "source": [
    "import pandas as pd\n",
    "import numpy as np"
   ]
  },
  {
   "cell_type": "markdown",
   "id": "7668d004",
   "metadata": {},
   "source": [
    "## Post-Processing for KSQL Predictions"
   ]
  },
  {
   "cell_type": "code",
   "execution_count": null,
   "id": "83241ad0",
   "metadata": {},
   "outputs": [],
   "source": [
    "# Get PCAP Indexes of all flows\n",
    "# For example, if 125th, 126th, and 127th is part of k-th flow (in whole dataset train & test), then flow_packets[k] = [125, 126, 127]\n",
    "flow_packets = []\n",
    "with open(\"../datasets/output/pcap_indexes_run_index.txt\") as file:\n",
    "    for line in file:\n",
    "        indexes = line.strip().split(\",\")\n",
    "        if len(indexes[-1]) == 0:\n",
    "            indexes = indexes[:-1]\n",
    "        indexes = [int(x) for x in indexes]\n",
    "        flow_packets.append(indexes)"
   ]
  },
  {
   "cell_type": "code",
   "execution_count": null,
   "id": "7dbfc1d7",
   "metadata": {},
   "outputs": [],
   "source": [
    "# Creating mapping to convert whole dataset PCAP indexes to test dataset PCAP indexes\n",
    "full_to_test_mapping = {}\n",
    "with open(\"../datasets/output/test_pcap_index_mapping.txt\") as file:\n",
    "    for line in file:\n",
    "        before, after = line.strip().split(\",\")\n",
    "        before = int(before)\n",
    "        after = int(after)\n",
    "        assert before not in full_to_test_mapping\n",
    "        full_to_test_mapping[before] = after"
   ]
  },
  {
   "cell_type": "code",
   "execution_count": null,
   "id": "912f4ce7",
   "metadata": {},
   "outputs": [],
   "source": [
    "# Convert using mapping\n",
    "test_flow_packets = []\n",
    "for cur_packets in flow_packets:\n",
    "    new_packets = []\n",
    "    is_in_test = True\n",
    "\n",
    "    debug_partial = False\n",
    "    for idx in cur_packets:\n",
    "        if idx not in full_to_test_mapping:\n",
    "            is_in_test = False\n",
    "            assert not debug_partial # if assertion error, there may be problem in your dataset preparation\n",
    "            break\n",
    "        debug_partial = True\n",
    "        new_packets.append(full_to_test_mapping[idx])\n",
    "    if is_in_test:\n",
    "        test_flow_packets.append(new_packets)\n",
    "    else:\n",
    "        test_flow_packets.append(None)"
   ]
  },
  {
   "cell_type": "code",
   "execution_count": null,
   "id": "fecaceac",
   "metadata": {},
   "outputs": [],
   "source": [
    "test_flow_packets_set = [set(i) if i is not None else None for i in test_flow_packets]"
   ]
  },
  {
   "cell_type": "code",
   "execution_count": 9,
   "id": "ce3312a7",
   "metadata": {},
   "outputs": [],
   "source": [
    "np_test_flow_packets_set = pd.Series(np.array(test_flow_packets_set))\n",
    "flow_packets_set_test_only = np_test_flow_packets_set[~np_test_flow_packets_set.isna()]"
   ]
  },
  {
   "cell_type": "code",
   "execution_count": 12,
   "id": "3ddf00b3",
   "metadata": {},
   "outputs": [],
   "source": [
    "with open(\"../rule-detection/evaluation/detected_ksql_2_slowloris.txt\") as file:\n",
    "    detected_dos_idxs = [int(x.strip()) for x in file.readlines()]\n",
    "detected_dos_idx_set = set(detected_dos_idxs)\n",
    "\n",
    "with open(\"../rule-detection/evaluation/detected_ksql_2_portscan.txt\") as file:\n",
    "    detected_portscan_idxs = [int(x.strip()) for x in file.readlines()]\n",
    "detected_portscan_idx_set = set(detected_portscan_idxs)"
   ]
  },
  {
   "cell_type": "code",
   "execution_count": 13,
   "id": "57e07c96",
   "metadata": {},
   "outputs": [],
   "source": [
    "is_detected_dos = np.array([len(detected_dos_idx_set.intersection(flow_packet_set)) > 0 for flow_packet_set in flow_packets_set_test_only.values])\n",
    "is_detected_dos = pd.Series(is_detected_dos)\n",
    "\n",
    "is_detected_portscan = np.array([len(detected_portscan_idx_set.intersection(flow_packet_set)) > 0 for flow_packet_set in flow_packets_set_test_only.values])\n",
    "is_detected_portscan = pd.Series(is_detected_portscan)"
   ]
  },
  {
   "cell_type": "code",
   "execution_count": 14,
   "id": "145b3911",
   "metadata": {},
   "outputs": [],
   "source": [
    "is_detected_dos.index = flow_packets_set_test_only.index\n",
    "is_detected_portscan.index = flow_packets_set_test_only.index"
   ]
  },
  {
   "cell_type": "code",
   "execution_count": 17,
   "id": "943527da",
   "metadata": {},
   "outputs": [],
   "source": [
    "# Load Test Dataset\n",
    "flink_test = pd.read_csv('../datasets/output/test_final.csv', index_col=0)"
   ]
  },
  {
   "cell_type": "code",
   "execution_count": 18,
   "id": "1c6ff5fe",
   "metadata": {},
   "outputs": [],
   "source": [
    "assert set(flink_test['Old Index'].values).issubset(set(is_detected_dos.index))\n",
    "assert set(flink_test['Old Index'].values).issubset(set(is_detected_portscan.index))"
   ]
  },
  {
   "cell_type": "code",
   "execution_count": 19,
   "id": "542ed657",
   "metadata": {},
   "outputs": [],
   "source": [
    "is_detected_dos_df = pd.DataFrame(is_detected_dos, columns=['Binary Prediction']).reset_index().rename(columns={'index': 'Old Index'})\n",
    "is_detected_dos_df['Binary Prediction'] = np.where(is_detected_dos_df['Binary Prediction'], 'Slowloris', 'Not Slowloris')\n",
    "\n",
    "is_detected_ps_df = pd.DataFrame(is_detected_portscan, columns=['Binary Prediction']).reset_index().rename(columns={'index': 'Old Index'})\n",
    "is_detected_ps_df['Binary Prediction'] = np.where(is_detected_ps_df['Binary Prediction'], 'PortScan', 'Not PortScan')"
   ]
  },
  {
   "cell_type": "code",
   "execution_count": 20,
   "id": "e34db089",
   "metadata": {},
   "outputs": [],
   "source": [
    "flink_test_binary_dos = flink_test.merge(is_detected_dos_df, on=['Old Index'], how='left', indicator=True)\n",
    "flink_test_binary_ps = flink_test.merge(is_detected_ps_df, on=['Old Index'], how='left', indicator=True)"
   ]
  },
  {
   "cell_type": "code",
   "execution_count": 23,
   "id": "2a56a67a",
   "metadata": {},
   "outputs": [
    {
     "data": {
      "text/plain": [
       "_merge\n",
       "both          153698\n",
       "left_only          0\n",
       "right_only         0\n",
       "Name: count, dtype: int64"
      ]
     },
     "execution_count": 23,
     "metadata": {},
     "output_type": "execute_result"
    }
   ],
   "source": [
    "flink_test_binary_dos[\"_merge\"].value_counts()"
   ]
  },
  {
   "cell_type": "code",
   "execution_count": 22,
   "id": "e1b681f5",
   "metadata": {},
   "outputs": [
    {
     "data": {
      "text/plain": [
       "_merge\n",
       "both          153698\n",
       "left_only          0\n",
       "right_only         0\n",
       "Name: count, dtype: int64"
      ]
     },
     "execution_count": 22,
     "metadata": {},
     "output_type": "execute_result"
    }
   ],
   "source": [
    "flink_test_binary_ps[\"_merge\"].value_counts()"
   ]
  },
  {
   "cell_type": "code",
   "execution_count": 24,
   "id": "dabb630f",
   "metadata": {},
   "outputs": [],
   "source": [
    "flink_test_binary_dos['Binary Label'] = np.where(flink_test_binary_dos['Label'] == 'Slowloris', 'Slowloris', 'Not Slowloris')\n",
    "flink_test_binary_ps['Binary Label'] = np.where(flink_test_binary_ps['Label'] == 'Portscan', 'PortScan', 'Not PortScan')"
   ]
  },
  {
   "cell_type": "code",
   "execution_count": 25,
   "id": "a9cb6188",
   "metadata": {},
   "outputs": [],
   "source": [
    "y_true_dos = flink_test_binary_dos['Binary Label']\n",
    "y_pred_ksql_dos = flink_test_binary_dos['Binary Prediction']\n",
    "\n",
    "y_true_ps = flink_test_binary_ps['Binary Label']\n",
    "y_pred_ksql_ps = flink_test_binary_ps['Binary Prediction']"
   ]
  },
  {
   "cell_type": "markdown",
   "id": "c70246a2",
   "metadata": {},
   "source": [
    "## Accuracy, Precision, Recall, F1-Score"
   ]
  },
  {
   "cell_type": "markdown",
   "id": "6fa24936",
   "metadata": {},
   "source": [
    "### DoS"
   ]
  },
  {
   "cell_type": "markdown",
   "id": "5f53cd46",
   "metadata": {},
   "source": [
    "#### KSQL"
   ]
  },
  {
   "cell_type": "code",
   "execution_count": 26,
   "id": "d1e433f4",
   "metadata": {},
   "outputs": [
    {
     "name": "stdout",
     "output_type": "stream",
     "text": [
      "Accuracy of KSQL: 0.7858397636924358\n",
      "Precision of KSQL: 0.9833309903946688\n",
      "Recall of KSQL: 0.7858397636924358\n",
      "F1-score of KSQL: 0.8735624770396241\n",
      "               precision    recall  f1-score   support\n",
      "\n",
      "Not Slowloris    0.99067   0.79170   0.88008    152560\n",
      "    Slowloris    0.00000   0.00000   0.00000      1138\n",
      "\n",
      "     accuracy                        0.78584    153698\n",
      "    macro avg    0.49533   0.39585   0.44004    153698\n",
      " weighted avg    0.98333   0.78584   0.87356    153698\n",
      "\n"
     ]
    },
    {
     "data": {
      "image/png": "[encoded data removed]",
      "text/plain": [
       "<Figure size 500x500 with 2 Axes>"
      ]
     },
     "metadata": {},
     "output_type": "display_data"
    }
   ],
   "source": [
    "import seaborn as sns\n",
    "import matplotlib.pyplot as plt\n",
    "from sklearn.metrics import classification_report,confusion_matrix,precision_recall_fscore_support, accuracy_score\n",
    "\n",
    "# Evaluation metrics\n",
    "precision, recall, fscore, none = precision_recall_fscore_support(y_true_dos, y_pred_ksql_dos, average='weighted')\n",
    "\n",
    "# Print results\n",
    "print('Accuracy of KSQL: ' + str(accuracy_score(y_true_dos, y_pred_ksql_dos)))\n",
    "print('Precision of KSQL: ' + str(precision))\n",
    "print('Recall of KSQL: ' + str(recall))\n",
    "print('F1-score of KSQL: ' + str(fscore))\n",
    "print(classification_report(y_true_dos, y_pred_ksql_dos, digits=5))\n",
    "\n",
    "# Confusion matrix visualization\n",
    "cm = confusion_matrix(y_true_dos, y_pred_ksql_dos)\n",
    "f, ax = plt.subplots(figsize=(5, 5))\n",
    "sns.heatmap(cm, annot=True, linewidth=0.5, linecolor=\"red\", fmt=\".0f\", ax=ax)\n",
    "plt.xlabel(\"y_pred\")\n",
    "plt.ylabel(\"y_true\")\n",
    "plt.show()"
   ]
  },
  {
   "cell_type": "code",
   "execution_count": null,
   "id": "b55a8bee",
   "metadata": {},
   "outputs": [],
   "source": []
  },
  {
   "cell_type": "markdown",
   "id": "61a14752",
   "metadata": {},
   "source": [
    "### Port Scan"
   ]
  },
  {
   "cell_type": "markdown",
   "id": "7c81919c",
   "metadata": {},
   "source": [
    "#### KSQL"
   ]
  },
  {
   "cell_type": "code",
   "execution_count": 27,
   "id": "7197c472",
   "metadata": {},
   "outputs": [
    {
     "name": "stdout",
     "output_type": "stream",
     "text": [
      "Accuracy of KSQL: 0.9881390779320486\n",
      "Precision of KSQL: 0.9887786585421366\n",
      "Recall of KSQL: 0.9881390779320486\n",
      "F1-score of KSQL: 0.9882592258120892\n",
      "              precision    recall  f1-score   support\n",
      "\n",
      "Not PortScan    0.99998   0.98507   0.99247    121890\n",
      "    PortScan    0.94587   0.99991   0.97214     31808\n",
      "\n",
      "    accuracy                        0.98814    153698\n",
      "   macro avg    0.97292   0.99249   0.98230    153698\n",
      "weighted avg    0.98878   0.98814   0.98826    153698\n",
      "\n"
     ]
    },
    {
     "data": {
      "image/png": "[encoded data removed]",
      "text/plain": [
       "<Figure size 500x500 with 2 Axes>"
      ]
     },
     "metadata": {},
     "output_type": "display_data"
    }
   ],
   "source": [
    "import seaborn as sns\n",
    "import matplotlib.pyplot as plt\n",
    "from sklearn.metrics import classification_report,confusion_matrix,precision_recall_fscore_support, accuracy_score\n",
    "\n",
    "# Evaluation metrics\n",
    "precision, recall, fscore, none = precision_recall_fscore_support(y_true_ps, y_pred_ksql_ps, average='weighted')\n",
    "\n",
    "# Print results\n",
    "print('Accuracy of KSQL: ' + str(accuracy_score(y_true_ps, y_pred_ksql_ps)))\n",
    "print('Precision of KSQL: ' + str(precision))\n",
    "print('Recall of KSQL: ' + str(recall))\n",
    "print('F1-score of KSQL: ' + str(fscore))\n",
    "print(classification_report(y_true_ps, y_pred_ksql_ps, digits=5))\n",
    "\n",
    "# Confusion matrix visualization\n",
    "cm = confusion_matrix(y_true_ps, y_pred_ksql_ps)\n",
    "f, ax = plt.subplots(figsize=(5, 5))\n",
    "sns.heatmap(cm, annot=True, linewidth=0.5, linecolor=\"red\", fmt=\".0f\", ax=ax)\n",
    "plt.xlabel(\"y_pred\")\n",
    "plt.ylabel(\"y_true\")\n",
    "plt.show()"
   ]
  },
  {
   "cell_type": "code",
   "execution_count": null,
   "id": "f1a4998f",
   "metadata": {},
   "outputs": [],
   "source": []
  },
  {
   "cell_type": "code",
   "execution_count": null,
   "id": "ea5d0976",
   "metadata": {},
   "outputs": [],
   "source": []
  },
  {
   "cell_type": "markdown",
   "id": "dcaa5b15",
   "metadata": {},
   "source": [
    "## Inference Time"
   ]
  },
  {
   "cell_type": "code",
   "execution_count": null,
   "id": "fa95ad76",
   "metadata": {},
   "outputs": [],
   "source": []
  }
 ],
 "metadata": {
  "kernelspec": {
   "display_name": "venv",
   "language": "python",
   "name": "python3"
  },
  "language_info": {
   "codemirror_mode": {
    "name": "ipython",
    "version": 3
   },
   "file_extension": ".py",
   "mimetype": "text/x-python",
   "name": "python",
   "nbconvert_exporter": "python",
   "pygments_lexer": "ipython3",
   "version": "3.10.12"
  }
 },
 "nbformat": 4,
 "nbformat_minor": 5
}
